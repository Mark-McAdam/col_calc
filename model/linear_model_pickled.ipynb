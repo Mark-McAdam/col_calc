{
  "nbformat": 4,
  "nbformat_minor": 0,
  "metadata": {
    "colab": {
      "name": "linear_model_pickled.ipynb",
      "provenance": [],
      "collapsed_sections": [],
      "toc_visible": true
    },
    "kernelspec": {
      "name": "python3",
      "display_name": "Python 3"
    }
  },
  "cells": [
    {
      "cell_type": "code",
      "metadata": {
        "id": "4yB3pZSoM1tI",
        "colab_type": "code",
        "colab": {}
      },
      "source": [
        "import pandas as pd\n",
        "import sklearn\n",
        "import joblib\n",
        "import numpy as np\n",
        "from sklearn.pipeline import make_pipeline\n",
        "from sklearn.preprocessing import StandardScaler\n",
        "from sklearn.linear_model import LinearRegression\n",
        "\n",
        "# import the dataset - lets establish some baselines \n",
        "df = pd.read_csv('https://docs.google.com/spreadsheets/d/e/2PACX-1vR6LzWx6lS1FOS0Fl2QFF1CJeNrhsH0MxLmqEp8vbYj0Z-zDRm5Xwu4PQkP9WbCSokITS4UwcF9hCQ3/pub?output=csv')\n",
        "\n",
        "# for dealing with all the ugly column names. \n",
        "df.columns = (\n",
        "    df.columns\n",
        "    .str.replace(' - ', '_')\n",
        "    .str.replace('/', '_')\n",
        "    .str.replace(',', '_')\n",
        "    .str.replace('.', '_')\n",
        "    .str.replace('(', '_')\n",
        "    .str.replace(')', '_')\n",
        "    .str.replace(' ', '_')\n",
        "    .str.replace('__', '_')\n",
        "    .str.lower()\n",
        ")\n",
        "\n",
        "# make a train test val split \n",
        "# 80% 10% 10%\n",
        "train, val, test = np.split(df.sample(frac=1, random_state=42), [int(.8*len(df)), int(.9*len(df))])\n",
        "\n",
        "def clean(X):\n",
        "\n",
        "    # Prevent SettingWithCopyWarning\n",
        "    X = X.copy()\n",
        "\n",
        "    # drop the column that will leak data into the model \n",
        "    X = X.drop(columns='cost_of_living_plus_rent')\n",
        "\n",
        "    \n",
        "    cols_with_zeros = ['domestic_beer_0_5_liter_bottle_']\n",
        "    for col in cols_with_zeros:\n",
        "        X[col] = X[col].replace(0, np.nan)\n",
        "        X[col+'_MISSING'] = X[col].isnull()\n",
        "\n",
        "    # fill nan with the mean of the columns\n",
        "    X.fillna(X.mean(), inplace=True)\n",
        "\n",
        "    # # return cleaned df\n",
        "    return X\n",
        "\n",
        "train = clean(train)\n",
        "val = clean(val)\n",
        "test = clean(test)  \n",
        "\n",
        "# The COL Index is the target\n",
        "\n",
        "# Get a dataframe with all train columns except the target\n",
        "# train_features = train.drop(columns=[target])\n",
        "\n",
        "# Get a list of the numeric features\n",
        "# numeric_features = train_features.select_dtypes(include='number').columns.tolist()\n",
        "\n",
        "# Get a series with the cardinality of the nonnumeric features\n",
        "# cardinality = train_features.select_dtypes(exclude='number').nunique()\n",
        "\n",
        "# Get a list of all categorical features with cardinality <= 60\n",
        "# increased to 60 for this exercise \n",
        "# categorical_features = cardinality[cardinality <= 60].index.tolist()\n",
        "\n",
        "# Combine the lists \n",
        "# features = numeric_features + categorical_features\n",
        "# Arrange data into X features matrix and y target vector \n",
        "\n",
        "features = ['rent_index', 'restaurant_price_index', 'groceries_index', 'apartment_city_center_1bed', 'apartment_utilities', 'internet_monthly']\n",
        "target = 'cost_of_living_index'\n",
        "\n",
        "X_train = train[features]\n",
        "y_train = train[target]\n",
        "\n",
        "X_val = val[features]\n",
        "y_val = val[target]\n",
        "\n",
        "X_test = test[features]\n",
        "y_test = test[target]"
      ],
      "execution_count": 0,
      "outputs": []
    },
    {
      "cell_type": "code",
      "metadata": {
        "id": "fkvmzT0YQfkP",
        "colab_type": "code",
        "outputId": "5fdf4ce6-d819-43f1-9387-6e98b6fd5e69",
        "colab": {
          "base_uri": "https://localhost:8080/",
          "height": 136
        }
      },
      "source": [
        "pipeline = make_pipeline(\n",
        "    StandardScaler(), \n",
        "    LinearRegression()\n",
        ")\n",
        "\n",
        "pipeline.fit(X_train, y_train)"
      ],
      "execution_count": 2,
      "outputs": [
        {
          "output_type": "execute_result",
          "data": {
            "text/plain": [
              "Pipeline(memory=None,\n",
              "         steps=[('standardscaler',\n",
              "                 StandardScaler(copy=True, with_mean=True, with_std=True)),\n",
              "                ('linearregression',\n",
              "                 LinearRegression(copy_X=True, fit_intercept=True, n_jobs=None,\n",
              "                                  normalize=False))],\n",
              "         verbose=False)"
            ]
          },
          "metadata": {
            "tags": []
          },
          "execution_count": 2
        }
      ]
    },
    {
      "cell_type": "code",
      "metadata": {
        "id": "jVVefOShRHZu",
        "colab_type": "code",
        "outputId": "9f41954e-09e7-4709-9a9a-f102ee260663",
        "colab": {
          "base_uri": "https://localhost:8080/",
          "height": 34
        }
      },
      "source": [
        "from joblib import dump\n",
        "dump(pipeline, 'pipeline.joblib', compress=True)"
      ],
      "execution_count": 3,
      "outputs": [
        {
          "output_type": "execute_result",
          "data": {
            "text/plain": [
              "['pipeline.joblib']"
            ]
          },
          "metadata": {
            "tags": []
          },
          "execution_count": 3
        }
      ]
    },
    {
      "cell_type": "code",
      "metadata": {
        "id": "7PmQPMR9SAD9",
        "colab_type": "code",
        "colab": {
          "base_uri": "https://localhost:8080/",
          "height": 85
        },
        "outputId": "7dff3ffd-6090-47da-bf99-e0172c9bbe29"
      },
      "source": [
        "print(f'pandas=={pd.__version__}')\n",
        "print(f'scikit-learn=={sklearn.__version__}')\n",
        "print(f'joblib=={joblib.__version__}')\n",
        "print(f'numpy=={np.__version__}')\n",
        "\n"
      ],
      "execution_count": 4,
      "outputs": [
        {
          "output_type": "stream",
          "text": [
            "pandas==0.25.3\n",
            "scikit-learn==0.22.1\n",
            "joblib==0.14.1\n",
            "numpy==1.17.5\n"
          ],
          "name": "stdout"
        }
      ]
    },
    {
      "cell_type": "code",
      "metadata": {
        "id": "xNliherfSmEx",
        "colab_type": "code",
        "colab": {}
      },
      "source": [
        "def predict (rent_index, restaurant_price_index, groceries_index, apartment_city_center_1bed, apartment_utilities, internet_monthly):\n",
        "  df = pd.DataFrame(\n",
        "      columns = ['rent_index', 'restaurant_price_index', 'groceries_index', 'apartment_city_center_1bed', 'apartment_utilities', 'internet_monthly'],\n",
        "      data = [[rent_index, restaurant_price_index, groceries_index, apartment_city_center_1bed, apartment_utilities, internet_monthly]]\n",
        "  )\n",
        "  y_pred = pipeline.predict(df)[0]\n",
        "  return f'Cost of Living {y_pred:.4f}'\n"
      ],
      "execution_count": 0,
      "outputs": []
    },
    {
      "cell_type": "code",
      "metadata": {
        "id": "FjqHp9kYXSvv",
        "colab_type": "code",
        "colab": {
          "base_uri": "https://localhost:8080/",
          "height": 34
        },
        "outputId": "b6e707ff-f9df-4f1c-cab4-717094b08681"
      },
      "source": [
        "predict (10, 15, 25, 450, 95, 100)"
      ],
      "execution_count": 7,
      "outputs": [
        {
          "output_type": "execute_result",
          "data": {
            "text/plain": [
              "'Cost of Living 28.6015'"
            ]
          },
          "metadata": {
            "tags": []
          },
          "execution_count": 7
        }
      ]
    },
    {
      "cell_type": "code",
      "metadata": {
        "id": "pD_cM3mhE1Dp",
        "colab_type": "code",
        "colab": {}
      },
      "source": [
        ""
      ],
      "execution_count": 0,
      "outputs": []
    },
    {
      "cell_type": "code",
      "metadata": {
        "id": "JNqD4SVoGLb9",
        "colab_type": "code",
        "colab": {}
      },
      "source": [
        ""
      ],
      "execution_count": 0,
      "outputs": []
    }
  ]
}